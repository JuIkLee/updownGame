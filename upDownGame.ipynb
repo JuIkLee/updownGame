{
 "cells": [
  {
   "cell_type": "code",
   "execution_count": 0,
   "metadata": {
    "colab": {},
    "colab_type": "code",
    "id": "A9xwAY4JUPFW",
    "outputId": "e3c50826-984d-46d4-87fa-429eb65ba88e"
   },
   "outputs": [
    {
     "name": "stdout",
     "output_type": "stream",
     "text": [
      "병뚜껑 숫자33\n",
      "병뚜껑의 숫자는?:2\n",
      "up\n",
      "병뚜껑의 숫자는?:44\n",
      "down\n",
      "병뚜껑의 숫자는?:33\n",
      "collect\n"
     ]
    }
   ],
   "source": [
    "def game(bottle_Number):\n",
    "    #player choose number\n",
    "    player_Number = input(\"병뚜껑의 숫자는?:\")\n",
    "    #Output the result after comparing two numbers\n",
    "    if(bottle_Number>player_Number):\n",
    "        print(\"up\")\n",
    "        return False\n",
    "    elif(bottle_Number == player_Number):\n",
    "        print(\"collect\")\n",
    "        return True\n",
    "    else:\n",
    "        print(\"down\")\n",
    "        return False\n",
    "\n",
    "#bottle number\n",
    "bottle_Number = input(\"병뚜껑 숫자 :\")\n",
    "result = False\n",
    "#if two numbers are the same, break the branch statement\n",
    "while not result:\n",
    "    result = game(bottle_Number)"
   ]
  },
  {
   "cell_type": "code",
   "execution_count": null,
   "metadata": {
    "colab": {
     "base_uri": "https://localhost:8080/",
     "height": 388
    },
    "colab_type": "code",
    "executionInfo": {
     "elapsed": 1746,
     "status": "error",
     "timestamp": 1591260430739,
     "user": {
      "displayName": "나서연",
      "photoUrl": "",
      "userId": "17588022708413291057"
     },
     "user_tz": -540
    },
    "id": "nfulPPDBUPFc",
    "outputId": "00cd5fd8-c048-4264-dafb-0d145e7e436d"
   },
   "outputs": [
    {
     "name": "stdout",
     "output_type": "stream",
     "text": [
      "33\n"
     ]
    }
   ],
   "source": [
    "import sys\n",
    "from PyQt5.QtWidgets import QApplication, QWidget, QPushButton, QGridLayout, QLabel, QLineEdit\n",
    "\n",
    "class MyApp(QWidget):\n",
    "\n",
    "    def __init__(self):\n",
    "        super().__init__()\n",
    "        self.initUI()\n",
    "\n",
    "    def initUI(self):\n",
    "        #버튼 2개 생성(1.btn1은 병뚜껑 숫자, 2. btn2은 플레이어 선택 숫자\n",
    "        btn1 = QPushButton(self)\n",
    "        btn1.setText('입력')\n",
    "        btn1.clicked.connect(self.BottleNum)\n",
    "        btn2 = QPushButton(self)\n",
    "        btn2.setText('입력')\n",
    "        btn2.clicked.connect(self.PlayerNum)\n",
    "\n",
    "        #뚜껑 선택 수, 플레이어 선택 수\n",
    "        self.BottleNum = 0\n",
    "        self.playerNum = 0\n",
    "\n",
    "        #병뚜껑의 숫자, 플레이어의 숫자 두개를 입력 받음\n",
    "        self.input1 = QLineEdit(self)\n",
    "        self.input2 = QLineEdit(self)\n",
    "\n",
    "        #결과가 나오는 라벨\n",
    "        self.lbl = QLabel(self)\n",
    "        #self.lbl.setText('result here')\n",
    "\n",
    "        #레이아웃 설정\n",
    "        grid = QGridLayout()\n",
    "        grid.addWidget(QLabel('병뚜껑 숫자:'),0,0)\n",
    "        grid.addWidget(QLabel('사용자 선택:'),1, 0)\n",
    "        grid.addWidget(QLabel('결과 :'),2, 0)\n",
    "\n",
    "        grid.addWidget(self.input1,0,1)\n",
    "        grid.addWidget(self.input2,1,1)\n",
    "        grid.addWidget(btn1,0,2)\n",
    "        grid.addWidget(btn2,1,2)\n",
    "        grid.addWidget(self.lbl,2,1)\n",
    "\n",
    "        #gui 출력\n",
    "        self.setLayout(grid)\n",
    "        self.setWindowTitle('뚜껑 숫자 맞추기 게임')\n",
    "        self.setGeometry(300, 300, 300, 200)\n",
    "        self.show()\n",
    "\n",
    "    #병뚜껑 숫자 입력 버튼을 눌렀을때 발생하는 이벤트 함수\n",
    "    def BottleNum(self):\n",
    "        #입력 된 텍스는 str형이기 때문에 int형으로 케스팅\n",
    "        self.BottleNum = int(self.input1.text())\n",
    "        self.input1.clear()\n",
    "        print(self.BottleNum)\n",
    "\n",
    "    #플레이어 숫자 입력 버튼을 눌렀을 때 발생하는 이벤트 함수\n",
    "    def PlayerNum(self):\n",
    "        self.PlayerNum = int(self.input2.text())\n",
    "        #BottleNum 과 PlayerNum을 비교 후 결과를 출력\n",
    "        if (self.BottleNum > self.PlayerNum):\n",
    "            self.lbl.setText('up')\n",
    "        elif (self.BottleNum == self.PlayerNum):\n",
    "            self.lbl.setText('정답입니다.!! That number is collect!!')\n",
    "        else:\n",
    "            self.lbl.setText('down')\n",
    "\n",
    "if __name__ == '__main__':\n",
    "    app = QApplication(sys.argv)\n",
    "    ex = MyApp()\n",
    "    sys.exit(app.exec_())"
   ]
  },
  {
   "cell_type": "code",
   "execution_count": 0,
   "metadata": {
    "colab": {},
    "colab_type": "code",
    "id": "vsAUbm4aUPFe"
   },
   "outputs": [],
   "source": []
  }
 ],
 "metadata": {
  "colab": {
   "name": "upDownGame.ipynb",
   "provenance": []
  },
  "kernelspec": {
   "display_name": "Python 3",
   "language": "python",
   "name": "python3"
  },
  "language_info": {
   "codemirror_mode": {
    "name": "ipython",
    "version": 3
   },
   "file_extension": ".py",
   "mimetype": "text/x-python",
   "name": "python",
   "nbconvert_exporter": "python",
   "pygments_lexer": "ipython3",
   "version": "3.7.6"
  }
 },
 "nbformat": 4,
 "nbformat_minor": 1
}
